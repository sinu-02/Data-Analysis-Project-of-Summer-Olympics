{
  "nbformat": 4,
  "nbformat_minor": 0,
  "metadata": {
    "colab": {
      "name": "Data Analysis.ipynb",
      "provenance": [],
      "collapsed_sections": []
    },
    "kernelspec": {
      "name": "python3",
      "display_name": "Python 3"
    },
    "language_info": {
      "name": "python"
    }
  },
  "cells": [
    {
      "cell_type": "markdown",
      "metadata": {
        "id": "OaoYwbYjbqRU"
      },
      "source": [
        "##Summer Olympics Data Analysis Assignment"
      ]
    },
    {
      "cell_type": "code",
      "metadata": {
        "id": "Wx0jgEzjPZaq"
      },
      "source": [
        "import pandas as pd\n",
        "import numpy as np\n"
      ],
      "execution_count": 1,
      "outputs": []
    },
    {
      "cell_type": "code",
      "metadata": {
        "id": "wOfQ6L4-qNH9"
      },
      "source": [
        "df=pd.read_csv(\"Olympics.csv\")"
      ],
      "execution_count": 2,
      "outputs": []
    },
    {
      "cell_type": "code",
      "metadata": {
        "colab": {
          "base_uri": "https://localhost:8080/",
          "height": 204
        },
        "id": "LLwpv6AWqb5s",
        "outputId": "fe1c3dc7-6798-4245-dff6-13399e3f3ae4"
      },
      "source": [
        "df.head()"
      ],
      "execution_count": 3,
      "outputs": [
        {
          "output_type": "execute_result",
          "data": {
            "text/html": [
              "<div>\n",
              "<style scoped>\n",
              "    .dataframe tbody tr th:only-of-type {\n",
              "        vertical-align: middle;\n",
              "    }\n",
              "\n",
              "    .dataframe tbody tr th {\n",
              "        vertical-align: top;\n",
              "    }\n",
              "\n",
              "    .dataframe thead th {\n",
              "        text-align: right;\n",
              "    }\n",
              "</style>\n",
              "<table border=\"1\" class=\"dataframe\">\n",
              "  <thead>\n",
              "    <tr style=\"text-align: right;\">\n",
              "      <th></th>\n",
              "      <th>Year</th>\n",
              "      <th>City</th>\n",
              "      <th>Sport</th>\n",
              "      <th>Discipline</th>\n",
              "      <th>Athlete</th>\n",
              "      <th>Country</th>\n",
              "      <th>Gender</th>\n",
              "      <th>Event</th>\n",
              "      <th>Medal</th>\n",
              "    </tr>\n",
              "  </thead>\n",
              "  <tbody>\n",
              "    <tr>\n",
              "      <th>0</th>\n",
              "      <td>1896</td>\n",
              "      <td>Athens</td>\n",
              "      <td>Aquatics</td>\n",
              "      <td>Swimming</td>\n",
              "      <td>HAJOS, Alfred</td>\n",
              "      <td>HUN</td>\n",
              "      <td>Men</td>\n",
              "      <td>100M Freestyle</td>\n",
              "      <td>Gold</td>\n",
              "    </tr>\n",
              "    <tr>\n",
              "      <th>1</th>\n",
              "      <td>1896</td>\n",
              "      <td>Athens</td>\n",
              "      <td>Aquatics</td>\n",
              "      <td>Swimming</td>\n",
              "      <td>HERSCHMANN, Otto</td>\n",
              "      <td>AUT</td>\n",
              "      <td>Men</td>\n",
              "      <td>100M Freestyle</td>\n",
              "      <td>Silver</td>\n",
              "    </tr>\n",
              "    <tr>\n",
              "      <th>2</th>\n",
              "      <td>1896</td>\n",
              "      <td>Athens</td>\n",
              "      <td>Aquatics</td>\n",
              "      <td>Swimming</td>\n",
              "      <td>DRIVAS, Dimitrios</td>\n",
              "      <td>GRE</td>\n",
              "      <td>Men</td>\n",
              "      <td>100M Freestyle For Sailors</td>\n",
              "      <td>Bronze</td>\n",
              "    </tr>\n",
              "    <tr>\n",
              "      <th>3</th>\n",
              "      <td>1896</td>\n",
              "      <td>Athens</td>\n",
              "      <td>Aquatics</td>\n",
              "      <td>Swimming</td>\n",
              "      <td>MALOKINIS, Ioannis</td>\n",
              "      <td>GRE</td>\n",
              "      <td>Men</td>\n",
              "      <td>100M Freestyle For Sailors</td>\n",
              "      <td>Gold</td>\n",
              "    </tr>\n",
              "    <tr>\n",
              "      <th>4</th>\n",
              "      <td>1896</td>\n",
              "      <td>Athens</td>\n",
              "      <td>Aquatics</td>\n",
              "      <td>Swimming</td>\n",
              "      <td>CHASAPIS, Spiridon</td>\n",
              "      <td>GRE</td>\n",
              "      <td>Men</td>\n",
              "      <td>100M Freestyle For Sailors</td>\n",
              "      <td>Silver</td>\n",
              "    </tr>\n",
              "  </tbody>\n",
              "</table>\n",
              "</div>"
            ],
            "text/plain": [
              "   Year    City     Sport  ... Gender                       Event   Medal\n",
              "0  1896  Athens  Aquatics  ...    Men              100M Freestyle    Gold\n",
              "1  1896  Athens  Aquatics  ...    Men              100M Freestyle  Silver\n",
              "2  1896  Athens  Aquatics  ...    Men  100M Freestyle For Sailors  Bronze\n",
              "3  1896  Athens  Aquatics  ...    Men  100M Freestyle For Sailors    Gold\n",
              "4  1896  Athens  Aquatics  ...    Men  100M Freestyle For Sailors  Silver\n",
              "\n",
              "[5 rows x 9 columns]"
            ]
          },
          "metadata": {},
          "execution_count": 3
        }
      ]
    },
    {
      "cell_type": "markdown",
      "metadata": {
        "id": "niQiY_ANcBIU"
      },
      "source": [
        "###1. In how many cities summer olympics is held so far?"
      ]
    },
    {
      "cell_type": "code",
      "metadata": {
        "colab": {
          "base_uri": "https://localhost:8080/"
        },
        "id": "6VNKIXMevOLx",
        "outputId": "a3d9ff90-0de6-487d-f56a-acd8969f032a"
      },
      "source": [
        "len(df['City'].unique())"
      ],
      "execution_count": 4,
      "outputs": [
        {
          "output_type": "execute_result",
          "data": {
            "text/plain": [
              "22"
            ]
          },
          "metadata": {},
          "execution_count": 4
        }
      ]
    },
    {
      "cell_type": "markdown",
      "metadata": {
        "id": "Ak33x68VcWBN"
      },
      "source": [
        "###2. Which sport is having most number of medals so far?(Top 5)"
      ]
    },
    {
      "cell_type": "code",
      "metadata": {
        "colab": {
          "base_uri": "https://localhost:8080/",
          "height": 399
        },
        "id": "aBXiilmrvkZz",
        "outputId": "97576256-133f-4640-c41f-688dec3746ec"
      },
      "source": [
        "data=[]\n",
        "for sport in df['Sport'].unique():\n",
        "    data.append([sport,len(df[df['Sport']==sport])])\n",
        "\n",
        "pd.DataFrame(data,columns=['sport','medals']).sort_values(by='medals',ascending=False).head().plot(x='sport',y='medals',kind='bar',figsize=(10,5))"
      ],
      "execution_count": 5,
      "outputs": [
        {
          "output_type": "execute_result",
          "data": {
            "text/plain": [
              "<matplotlib.axes._subplots.AxesSubplot at 0x7efee54e76d0>"
            ]
          },
          "metadata": {},
          "execution_count": 5
        },
        {
          "output_type": "display_data",
          "data": {
            "image/png": "[encoded data removed]",
            "text/plain": [
              "<Figure size 720x360 with 1 Axes>"
            ]
          },
          "metadata": {
            "needs_background": "light"
          }
        }
      ]
    },
    {
      "cell_type": "markdown",
      "metadata": {
        "id": "EzWOH6CRdWD1"
      },
      "source": [
        "###3. Which player has won most number of medals?(Top 5)"
      ]
    },
    {
      "cell_type": "code",
      "metadata": {
        "colab": {
          "base_uri": "https://localhost:8080/",
          "height": 458
        },
        "id": "kOtpVVBG__h7",
        "outputId": "914fee75-8eb9-4906-f6f9-62d3160d2a81"
      },
      "source": [
        "stack=[]\n",
        "for player in df['Athlete'].unique():\n",
        "    stack.append([player,len(df[df['Athlete']==player])])\n",
        "\n",
        "pd.DataFrame(stack,columns=['player','medals']).sort_values(by='medals',ascending=False).head().plot(x='player',y='medals',kind='bar',figsize=(10,5))"
      ],
      "execution_count": 6,
      "outputs": [
        {
          "output_type": "execute_result",
          "data": {
            "text/plain": [
              "<matplotlib.axes._subplots.AxesSubplot at 0x7efee54fc110>"
            ]
          },
          "metadata": {},
          "execution_count": 6
        },
        {
          "output_type": "display_data",
          "data": {
            "image/png": "[encoded data removed]",
            "text/plain": [
              "<Figure size 720x360 with 1 Axes>"
            ]
          },
          "metadata": {
            "needs_background": "light"
          }
        }
      ]
    },
    {
      "cell_type": "markdown",
      "metadata": {
        "id": "RaMqg-m4eFWB"
      },
      "source": [
        "###4. Which event is most popular in terms of number of players?(Top 5)"
      ]
    },
    {
      "cell_type": "code",
      "metadata": {
        "colab": {
          "base_uri": "https://localhost:8080/",
          "height": 431
        },
        "id": "BP0UaHqmEj2t",
        "outputId": "fc6d268b-c8bc-44c8-c707-4f00ca70b413"
      },
      "source": [
        "reg=[]\n",
        "for event in df['Event'].unique():\n",
        "    reg.append([event,len(df[df['Event']==event])])\n",
        "\n",
        "pd.DataFrame(reg,columns=['event','players']).sort_values(by='players',ascending=False).head().plot(x='event',y='players',kind='bar',figsize=(10,5))"
      ],
      "execution_count": 7,
      "outputs": [
        {
          "output_type": "execute_result",
          "data": {
            "text/plain": [
              "<matplotlib.axes._subplots.AxesSubplot at 0x7efeea89a450>"
            ]
          },
          "metadata": {},
          "execution_count": 7
        },
        {
          "output_type": "display_data",
          "data": {
            "image/png": "[encoded data removed]",
            "text/plain": [
              "<Figure size 720x360 with 1 Axes>"
            ]
          },
          "metadata": {
            "needs_background": "light"
          }
        }
      ]
    },
    {
      "cell_type": "code",
      "metadata": {
        "id": "Rpl0bc-lX6HN"
      },
      "source": [
        "data=df.values"
      ],
      "execution_count": 8,
      "outputs": []
    },
    {
      "cell_type": "code",
      "metadata": {
        "colab": {
          "base_uri": "https://localhost:8080/"
        },
        "id": "79BrgeN2YCcf",
        "outputId": "bdcd91d9-857c-4cc4-93f9-177ad7a24a82"
      },
      "source": [
        "data"
      ],
      "execution_count": 9,
      "outputs": [
        {
          "output_type": "execute_result",
          "data": {
            "text/plain": [
              "array([[1896, 'Athens', 'Aquatics', ..., 'Men', '100M Freestyle', 'Gold'],\n",
              "       [1896, 'Athens', 'Aquatics', ..., 'Men', '100M Freestyle',\n",
              "        'Silver'],\n",
              "       [1896, 'Athens', 'Aquatics', ..., 'Men',\n",
              "        '100M Freestyle For Sailors', 'Bronze'],\n",
              "       ...,\n",
              "       [2012, 'London', 'Wrestling', ..., 'Men', 'Wg 96 KG', 'Silver'],\n",
              "       [2012, 'London', 'Wrestling', ..., 'Men', 'Wg 96 KG', 'Bronze'],\n",
              "       [2012, 'London', 'Wrestling', ..., 'Men', 'Wg 96 KG', 'Bronze']],\n",
              "      dtype=object)"
            ]
          },
          "metadata": {},
          "execution_count": 9
        }
      ]
    },
    {
      "cell_type": "markdown",
      "metadata": {
        "id": "k5VfI44HNkV7"
      },
      "source": [
        "###5.Which sport is having most number of gold medals so far?(Top 5)"
      ]
    },
    {
      "cell_type": "code",
      "metadata": {
        "id": "u_JAO2HWYHbE"
      },
      "source": [
        "lst=[]\n",
        "\n",
        "for sport in df['Sport'].unique():\n",
        "    count=0\n",
        "    for i in range(len(data)):\n",
        "        if(data[i][2]==sport and data[i][8]=='Gold'):\n",
        "          count+=1\n",
        "    lst.append([sport,count])     "
      ],
      "execution_count": 10,
      "outputs": []
    },
    {
      "cell_type": "code",
      "metadata": {
        "colab": {
          "base_uri": "https://localhost:8080/",
          "height": 345
        },
        "id": "F3OTM8Fcamv6",
        "outputId": "ba394802-8c64-4b33-df1b-58b3fa9ad101"
      },
      "source": [
        "pd.DataFrame(lst,columns=['sport','gold']).sort_values(by='gold',ascending=False).head().plot(x='sport',y='gold',kind='bar')"
      ],
      "execution_count": 11,
      "outputs": [
        {
          "output_type": "execute_result",
          "data": {
            "text/plain": [
              "<matplotlib.axes._subplots.AxesSubplot at 0x7efee4c0a210>"
            ]
          },
          "metadata": {},
          "execution_count": 11
        },
        {
          "output_type": "display_data",
          "data": {
            "image/png": "[encoded data removed]",
            "text/plain": [
              "<Figure size 432x288 with 1 Axes>"
            ]
          },
          "metadata": {
            "needs_background": "light"
          }
        }
      ]
    },
    {
      "cell_type": "markdown",
      "metadata": {
        "id": "PEJAdQMMT7b7"
      },
      "source": [
        "###6. Which player has won most number of gold medals?(Top 5)"
      ]
    },
    {
      "cell_type": "code",
      "metadata": {
        "id": "Y_K-FiHHf_Tz"
      },
      "source": [
        "lst1=[]\n",
        "\n",
        "for player in df['Athlete'].unique():\n",
        "    count=0\n",
        "    for i in range(len(data)):\n",
        "        if(data[i][4]==player and data[i][8]=='Gold'):\n",
        "          count+=1\n",
        "    lst1.append([player,count])     "
      ],
      "execution_count": 12,
      "outputs": []
    },
    {
      "cell_type": "code",
      "metadata": {
        "colab": {
          "base_uri": "https://localhost:8080/",
          "height": 371
        },
        "id": "AAQzem4mkblX",
        "outputId": "9e26a0d3-d8eb-467a-dea6-fefa0c27b9e3"
      },
      "source": [
        "pd.DataFrame(lst1,columns=['player','gold']).sort_values(by='gold',ascending=False).head().plot(x='player',y='gold',kind='bar')"
      ],
      "execution_count": 13,
      "outputs": [
        {
          "output_type": "execute_result",
          "data": {
            "text/plain": [
              "<matplotlib.axes._subplots.AxesSubplot at 0x7efee4ae9190>"
            ]
          },
          "metadata": {},
          "execution_count": 13
        },
        {
          "output_type": "display_data",
          "data": {
            "image/png": "[encoded data removed]",
            "text/plain": [
              "<Figure size 432x288 with 1 Axes>"
            ]
          },
          "metadata": {
            "needs_background": "light"
          }
        }
      ]
    },
    {
      "cell_type": "markdown",
      "metadata": {
        "id": "2a_hqdI_WlNw"
      },
      "source": [
        "###7. In which year India won first gold medal?"
      ]
    },
    {
      "cell_type": "code",
      "metadata": {
        "colab": {
          "base_uri": "https://localhost:8080/"
        },
        "id": "m3sgrtdmBnrg",
        "outputId": "9f719eff-ebec-45f2-b958-7ebe350f075b"
      },
      "source": [
        "\n",
        "for i in range(len(data)):\n",
        "    if(data[i][5]=='IND' and data[i][8]=='Gold'):\n",
        "       year=data[i][0]\n",
        "       break\n",
        "print(year)          "
      ],
      "execution_count": 14,
      "outputs": [
        {
          "output_type": "stream",
          "name": "stdout",
          "text": [
            "1928\n"
          ]
        }
      ]
    },
    {
      "cell_type": "markdown",
      "metadata": {
        "id": "UewUp-RaW17z"
      },
      "source": [
        "###8. Which sport is having most female gold medalists?(Top 5)"
      ]
    },
    {
      "cell_type": "code",
      "metadata": {
        "id": "QzD321GtKBvz"
      },
      "source": [
        "lst2=[]\n",
        "for sport in df['Sport'].unique():\n",
        "    count=0\n",
        "    for i in range(len(data)):\n",
        "       if(data[i][2]==sport and data[i][6]=='Women' and data[i][8]=='Gold'):\n",
        "         count+=1\n",
        "    lst2.append([sport,count])"
      ],
      "execution_count": 15,
      "outputs": []
    },
    {
      "cell_type": "code",
      "metadata": {
        "colab": {
          "base_uri": "https://localhost:8080/",
          "height": 345
        },
        "id": "x081ApT9NVvG",
        "outputId": "40ac1165-20d7-4d22-91d9-590a0e2dd228"
      },
      "source": [
        "pd.DataFrame(lst,columns=['sport','female']).sort_values(by='female',ascending=False).head().plot(x='sport',y='female',kind='bar')"
      ],
      "execution_count": 16,
      "outputs": [
        {
          "output_type": "execute_result",
          "data": {
            "text/plain": [
              "<matplotlib.axes._subplots.AxesSubplot at 0x7efee4807d90>"
            ]
          },
          "metadata": {},
          "execution_count": 16
        },
        {
          "output_type": "display_data",
          "data": {
            "image/png": "[encoded data removed]",
            "text/plain": [
              "<Figure size 432x288 with 1 Axes>"
            ]
          },
          "metadata": {
            "needs_background": "light"
          }
        }
      ]
    }
  ]
}